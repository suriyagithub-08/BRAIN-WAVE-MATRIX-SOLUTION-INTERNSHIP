{
 "cells": [
  {
   "cell_type": "markdown",
   "id": "1721e4d6-4cd3-4ead-bd19-cfaacacabdd5",
   "metadata": {},
   "source": [
    "# Import Data from local"
   ]
  },
  {
   "cell_type": "code",
   "execution_count": 33,
   "id": "293c68c3-0dde-489b-a988-27e819613618",
   "metadata": {},
   "outputs": [
    {
     "name": "stdout",
     "output_type": "stream",
     "text": [
      "Index(['title', 'text', 'subject', 'date', 'label'], dtype='object')\n",
      "Index(['title', 'text', 'subject', 'date', 'label'], dtype='object')\n"
     ]
    }
   ],
   "source": [
    "import pandas as pd\n",
    "true_df = pd.read_csv(r\"C:\\Users\\suriya\\Downloads\\archive (18)\\True.csv\")\n",
    "fake_df = pd.read_csv(r\"C:\\Users\\suriya\\Downloads\\archive (18)\\Fake.csv\")\n",
    "true_df['label'] = 1\n",
    "fake_df['label'] = 0\n",
    "df = pd.concat([true_df, fake_df], ignore_index=True)\n",
    "print(true_df.columns)\n",
    "print(fake_df.columns)"
   ]
  },
  {
   "cell_type": "markdown",
   "id": "0ea3ab42-184d-4fe5-9353-a7f3aaa0e7f8",
   "metadata": {},
   "source": [
    "# Data Preprocessing"
   ]
  },
  {
   "cell_type": "code",
   "execution_count": 34,
   "id": "6f84ef51-784e-49c7-8301-8de241f9b7a9",
   "metadata": {},
   "outputs": [
    {
     "name": "stderr",
     "output_type": "stream",
     "text": [
      "[nltk_data] Downloading package stopwords to\n",
      "[nltk_data]     C:\\Users\\suriya\\AppData\\Roaming\\nltk_data...\n",
      "[nltk_data]   Package stopwords is already up-to-date!\n"
     ]
    }
   ],
   "source": [
    "import re\n",
    "import nltk\n",
    "from nltk.corpus import stopwords\n",
    "nltk.download('stopwords')\n",
    "def clean_text(text):\n",
    "    text = re.sub(r'\\W', ' ', text)\n",
    "    text = re.sub(r'\\s+', ' ', text)\n",
    "    text = text.lower()\n",
    "    text = text.strip()\n",
    "    return text\n",
    "df['text'] = df['text'].apply(clean_text)"
   ]
  },
  {
   "cell_type": "markdown",
   "id": "a1ab4d09-3535-439c-9ed3-e38cb8bc5a0d",
   "metadata": {},
   "source": [
    "# Feature Extraction"
   ]
  },
  {
   "cell_type": "code",
   "execution_count": 35,
   "id": "94946fe6-2e9d-494c-be7e-fb5d514e05df",
   "metadata": {},
   "outputs": [],
   "source": [
    "from sklearn.feature_extraction.text import TfidfVectorizer\n",
    "tfidf = TfidfVectorizer(max_features=5000, stop_words=stopwords.words('english'))\n",
    "X = tfidf.fit_transform(df['text']).toarray()\n",
    "y = df['label']"
   ]
  },
  {
   "cell_type": "markdown",
   "id": "d32c75d2-a091-45ce-967a-48992f1c126c",
   "metadata": {},
   "source": [
    "# Model Selection And Training"
   ]
  },
  {
   "cell_type": "code",
   "execution_count": 36,
   "id": "72f3c844-c135-4037-bdf8-c375801bfab7",
   "metadata": {},
   "outputs": [],
   "source": [
    "from sklearn.model_selection import train_test_split\n",
    "from sklearn.linear_model import LogisticRegression\n",
    "from sklearn.metrics import accuracy_score, confusion_matrix, classification_report\n",
    "X_train, X_test, y_train, y_test = train_test_split(X, y, test_size=0.2, random_state=42)\n",
    "model = LogisticRegression()\n",
    "model.fit(X_train, y_train)\n",
    "y_pred = model.predict(X_test)"
   ]
  },
  {
   "cell_type": "markdown",
   "id": "ca91270f-288a-4e2a-b0f7-7fb52c3b9ec9",
   "metadata": {},
   "source": [
    "# Model Evaluation"
   ]
  },
  {
   "cell_type": "code",
   "execution_count": 37,
   "id": "240f6dc3-328d-4993-b376-4eaeafc7f89d",
   "metadata": {},
   "outputs": [
    {
     "name": "stdout",
     "output_type": "stream",
     "text": [
      "Accuracy: 0.989532293986637\n",
      "Confusion Matrix:\n",
      "[[4588   62]\n",
      " [  32 4298]]\n",
      "Classification Report:\n",
      "              precision    recall  f1-score   support\n",
      "\n",
      "           0       0.99      0.99      0.99      4650\n",
      "           1       0.99      0.99      0.99      4330\n",
      "\n",
      "    accuracy                           0.99      8980\n",
      "   macro avg       0.99      0.99      0.99      8980\n",
      "weighted avg       0.99      0.99      0.99      8980\n",
      "\n"
     ]
    }
   ],
   "source": [
    "accuracy = accuracy_score(y_test, y_pred)\n",
    "conf_matrix = confusion_matrix(y_test, y_pred)\n",
    "class_report = classification_report(y_test, y_pred)\n",
    "print(f\"Accuracy: {accuracy}\")\n",
    "print(\"Confusion Matrix:\")\n",
    "print(conf_matrix)\n",
    "print(\"Classification Report:\")\n",
    "print(class_report)"
   ]
  },
  {
   "cell_type": "markdown",
   "id": "427e37fc-d55e-49e5-b6fc-1a9f7dbe366b",
   "metadata": {},
   "source": [
    "# Hyperparameter Tuning"
   ]
  },
  {
   "cell_type": "code",
   "execution_count": 38,
   "id": "783629f8-0c9e-4d41-8c99-6edf32ad2cbb",
   "metadata": {},
   "outputs": [
    {
     "name": "stdout",
     "output_type": "stream",
     "text": [
      "Best Parameters: {'C': 100, 'solver': 'liblinear'}\n",
      "Accuracy with Best Model: 0.9953229398663697\n",
      "Confusion Matrix with Best Model:\n",
      "[[4627   23]\n",
      " [  19 4311]]\n",
      "Classification Report with Best Model:\n",
      "              precision    recall  f1-score   support\n",
      "\n",
      "           0       1.00      1.00      1.00      4650\n",
      "           1       0.99      1.00      1.00      4330\n",
      "\n",
      "    accuracy                           1.00      8980\n",
      "   macro avg       1.00      1.00      1.00      8980\n",
      "weighted avg       1.00      1.00      1.00      8980\n",
      "\n"
     ]
    }
   ],
   "source": [
    "from sklearn.model_selection import GridSearchCV\n",
    "param_grid = {\n",
    "    'C': [0.01, 0.1, 1, 10, 100],\n",
    "    'solver': ['newton-cg', 'lbfgs', 'liblinear']\n",
    "}\n",
    "grid_search = GridSearchCV(LogisticRegression(), param_grid, cv=5, scoring='accuracy')\n",
    "grid_search.fit(X_train, y_train)\n",
    "best_params = grid_search.best_params_\n",
    "best_model = grid_search.best_estimator_\n",
    "y_pred_best = best_model.predict(X_test)\n",
    "accuracy_best = accuracy_score(y_test, y_pred_best)\n",
    "conf_matrix_best = confusion_matrix(y_test, y_pred_best)\n",
    "class_report_best = classification_report(y_test, y_pred_best)\n",
    "print(f\"Best Parameters: {best_params}\")\n",
    "print(f\"Accuracy with Best Model: {accuracy_best}\")\n",
    "print(\"Confusion Matrix with Best Model:\")\n",
    "print(conf_matrix_best)\n",
    "print(\"Classification Report with Best Model:\")\n",
    "print(class_report_best)"
   ]
  },
  {
   "cell_type": "markdown",
   "id": "fa96af37-cd02-430f-aa4a-640038cd9a26",
   "metadata": {},
   "source": [
    "# Model Saving"
   ]
  },
  {
   "cell_type": "code",
   "execution_count": 39,
   "id": "fb5caa6a-9b6c-4d10-b455-bdb21ab07d47",
   "metadata": {},
   "outputs": [
    {
     "data": {
      "text/plain": [
       "['tfidf_vectorizer.pkl']"
      ]
     },
     "execution_count": 39,
     "metadata": {},
     "output_type": "execute_result"
    }
   ],
   "source": [
    "import joblib\n",
    "joblib.dump(best_model, 'fake_news_model.pkl')\n",
    "joblib.dump(tfidf, 'tfidf_vectorizer.pkl')"
   ]
  },
  {
   "cell_type": "markdown",
   "id": "0f1ee5d7-5ca7-48a0-8875-30747f1920b1",
   "metadata": {},
   "source": [
    "# Predict the example text"
   ]
  },
  {
   "cell_type": "code",
   "execution_count": 53,
   "id": "7296cbf5-e935-4182-92a8-ba61f0c081d3",
   "metadata": {},
   "outputs": [],
   "source": [
    "import joblib\n",
    "import re\n",
    "from sklearn.feature_extraction.text import TfidfVectorizer\n",
    "best_model = joblib.load('fake_news_model.pkl')\n",
    "tfidf = joblib.load('tfidf_vectorizer.pkl')"
   ]
  },
  {
   "cell_type": "markdown",
   "id": "badf4713-271e-422a-b9d8-746bedc82df5",
   "metadata": {},
   "source": [
    "## Label 0 is fake \n",
    "## Label 1 is Real"
   ]
  },
  {
   "cell_type": "code",
   "execution_count": 55,
   "id": "2d534aa5-6d61-4348-b09d-f0753f3606e3",
   "metadata": {},
   "outputs": [
    {
     "name": "stdout",
     "output_type": "stream",
     "text": [
      "Prediction for the example text: 1\n"
     ]
    }
   ],
   "source": [
    "example_text = \"AUSTIN, Texas/WASHINGTON (Reuters) - U.S. Republican Representative Blake Farenthold said he would not seek re-election in November, denying allegations of sexual harassment by former staffers but admitting he allowed an unprofessional culture to flourish in his Capitol Hill office. The 55-year-old congressman from Corpus Christi, Texas, made the announcement on Thursday, a week after the House Ethics Committee said it was investigating him over allegations of sexual harassment, discrimination and retaliation involving a former female staff member. The committee said it was also looking into whether Farenthold had made inappropriate statements to other members of his staff. In a videotaped statement on his campaign’s Facebook page, Farenthold said he was a political novice unprepared for his new responsibilities when he came to Washington for his first term in 2011. “I had no idea how to run a congressional office, and as a result, I allowed a workplace culture to take root in my office that was too permissive and decidedly unprofessional,” he said. Politico reported last week that the congressional Office of Compliance had paid $84,000 from a public fund on behalf of Farenthold for a sexual harassment claim. In 2014, his former communications director, Lauren Greene, filed a lawsuit accusing him of creating a hostile work environment, gender discrimination and retaliation, court documents showed. The two reached a confidential mediated agreement in 2015, according to a statement from Farenthold’s office that denied any wrongdoing by him. Reuters has been unable to verify the allegations against Farenthold, who said on Thursday that the charges were false.  “This issue has become a political distraction,” he said. “Quite simply, my constituents deserve better.” House of Representatives Speaker Paul Ryan called the allegations disconcerting, including reports outlining “unacceptable behaviors.”  “I think he’s made the right decision to retire,” Ryan said. Congress is reviewing its workplace policies on sexual harassment after a number of lawmakers have been accused of sexual misconduct in recent weeks amid a wave of such allegations against powerful men in entertainment, politics and the media.  Last week, Democratic Representative John Conyers and Republican Representative Trent Franks resigned, while Democratic Senator Al Franken said he would be stepping down in the coming weeks. \" \n",
    "cleaned_example_text = clean_text(example_text)\n",
    "text_vectorized = tfidf.transform([cleaned_example_text]).toarray()\n",
    "prediction = best_model.predict(text_vectorized)\n",
    "print(f\"Prediction for the example text: {prediction[0]}\")"
   ]
  },
  {
   "cell_type": "code",
   "execution_count": null,
   "id": "19612736-c16b-4136-9297-d06f03924f7d",
   "metadata": {},
   "outputs": [],
   "source": []
  }
 ],
 "metadata": {
  "kernelspec": {
   "display_name": "new_env_py3.9",
   "language": "python",
   "name": "new_env_py3.9"
  },
  "language_info": {
   "codemirror_mode": {
    "name": "ipython",
    "version": 3
   },
   "file_extension": ".py",
   "mimetype": "text/x-python",
   "name": "python",
   "nbconvert_exporter": "python",
   "pygments_lexer": "ipython3",
   "version": "3.9.15"
  }
 },
 "nbformat": 4,
 "nbformat_minor": 5
}
